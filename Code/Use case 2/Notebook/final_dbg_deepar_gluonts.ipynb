{
 "cells": [
  {
   "cell_type": "markdown",
   "metadata": {},
   "source": [
    "# Stock Price Prediction, using SageMaker DeepAR\n",
    "\n",
    "\n",
    "DeepAR is a supervised learning algorithm for forecasting scalar time series. This notebook demonstrates:\n",
    "- How to format Deutsche Börse maintained stock market data to be used as training input and prediction on DeepAR\n",
    "- Usage of `Dynamic Features` on DeepAR, with metrices within the Deutsche Börse dataset used as dynamic features\n",
    "- How to easily train an DeepAR Estimator and create a Predictor using DeepAR container image\n",
    "\n",
    "Running the model training using the highest memory CPU based [ML instance type](https://aws.amazon.com/sagemaker/pricing/instance-types/) available on AWS at this time (`ml.c5.18xlarge`), it should take about 15 minutes to train the model if you use data sampled at daily interval.\n"
   ]
  },
  {
   "cell_type": "code",
   "execution_count": 1,
   "metadata": {},
   "outputs": [
    {
     "name": "stderr",
     "output_type": "stream",
     "text": [
      "/home/ec2-user/anaconda3/envs/python3/lib/python3.6/site-packages/ipykernel/__main__.py:9: TqdmExperimentalWarning: Using `tqdm.autonotebook.tqdm` in notebook mode. Use `tqdm.tqdm` instead to force console mode (e.g. in jupyter console)\n"
     ]
    }
   ],
   "source": [
    "%matplotlib inline\n",
    "import mxnet as mx\n",
    "from mxnet import gluon\n",
    "import numpy as np\n",
    "import pandas as pd\n",
    "import matplotlib.pyplot as plt\n",
    "import json\n",
    "import os\n",
    "from tqdm.autonotebook import tqdm\n",
    "from pathlib import Path"
   ]
  },
  {
   "cell_type": "markdown",
   "metadata": {},
   "source": [
    "## Choice of Series\n",
    "\n",
    "As we observed during data analysis phase that there are certain stocks that are clustered relatively more, based on their past price trends. Naturally, using these similarly moving stock would increase overall model performance, in absence of any other available external time series.\n",
    "\n",
    "Therefore, like before, use the stocks of companies in automobile industry, and tjhe closing price of these series as the time series' of choice, for the model to build upon. THe difference here however is that, we do not have to specify which is the main series, and which ones are exogenous. DeepAR algorithm works to build a model that accounts for trends in all provided time series, and can generate forecast on any of those. This saves you the hassle of building different models for different time series.\n",
    "\n",
    "Just like we used covariate time series in our custom RNN example, we can use such series on DeepAR, by using the Dynamic Features. The data formatting function works to take all covariate columns, and format those as dynamic features for each time series.\n",
    "\n",
    "So, in effect, following the configuration below, you end up having 5 time series' - the closing prices of the 5 stocks, each with 3 dynamic feature series' - opening price, and minimum and maximum prices."
   ]
  },
  {
   "cell_type": "code",
   "execution_count": 2,
   "metadata": {},
   "outputs": [],
   "source": [
    "# Define parameters\n",
    "interval = 'D' #Use D or H\n",
    "\n",
    "assert interval == 'D' \n",
    "\n",
    "if interval == 'D':\n",
    "    prediction_length = 65 #when interval = D    \n",
    "    context_length = 65\n",
    "    \n",
    "mnemonics = ['CON','DAI','PAH3','BMW','VOW3']\n",
    "target_column = 'EndPrice'\n",
    "covariate_columns = ['StartPrice', 'MinPrice', 'MaxPrice']"
   ]
  },
  {
   "cell_type": "code",
   "execution_count": 3,
   "metadata": {},
   "outputs": [
    {
     "name": "stderr",
     "output_type": "stream",
     "text": [
      "'get_image_uri' method will be deprecated in favor of 'ImageURIProvider' class in SageMaker Python SDK v2.\n"
     ]
    },
    {
     "name": "stdout",
     "output_type": "stream",
     "text": [
      "Model will be trained using container image : 522234722520.dkr.ecr.us-east-1.amazonaws.com/forecasting-deepar:latest\n"
     ]
    }
   ],
   "source": [
    "# Define IAM role and session\n",
    "import sagemaker\n",
    "role = sagemaker.get_execution_role()\n",
    "session = sagemaker.Session()\n",
    "\n",
    "#Obtain container image URI for SageMaker-DeepAR algorithm, based on region\n",
    "region = session.boto_region_name\n",
    "image_name = sagemaker.amazon.amazon_estimator.get_image_uri(region, \"forecasting-deepar\", \"latest\")\n",
    "print(\"Model will be trained using container image : {}\".format(image_name))\n",
    "\n",
    "#Define training data location\n",
    "s3_data_key = 'dbg-stockdata/source'\n",
    "s3_bucket = session.default_bucket()\n",
    "s3_output_path = \"s3://{}/{}/{}/output\".format(s3_bucket, s3_data_key, interval)"
   ]
  },
  {
   "cell_type": "markdown",
   "metadata": {},
   "source": [
    "## Training Data\n",
    "\n",
    "During data preparation steps, you uploaded the resampled data to your S3 bucket, attached to your SageMaker session, under an appropriate prefix, depending on resampling interval. \n",
    "\n",
    "In order to use the data for DeepAr however, you'll need to do some preprocessing to have the data formatted following [DeepAR Input/Output interface](https://docs.aws.amazon.com/sagemaker/latest/dg/deepar.html#deepar-inputoutput). \n",
    "The function named `deeparize` does this transformation."
   ]
  },
  {
   "cell_type": "code",
   "execution_count": 4,
   "metadata": {},
   "outputs": [
    {
     "name": "stdout",
     "output_type": "stream",
     "text": [
      "(484, 20)\n",
      "CPU times: user 199 ms, sys: 8.56 ms, total: 207 ms\n",
      "Wall time: 1.35 s\n"
     ]
    },
    {
     "data": {
      "text/html": [
       "<div>\n",
       "<style scoped>\n",
       "    .dataframe tbody tr th:only-of-type {\n",
       "        vertical-align: middle;\n",
       "    }\n",
       "\n",
       "    .dataframe tbody tr th {\n",
       "        vertical-align: top;\n",
       "    }\n",
       "\n",
       "    .dataframe thead th {\n",
       "        text-align: right;\n",
       "    }\n",
       "</style>\n",
       "<table border=\"1\" class=\"dataframe\">\n",
       "  <thead>\n",
       "    <tr style=\"text-align: right;\">\n",
       "      <th></th>\n",
       "      <th>BMW-EndPrice</th>\n",
       "      <th>BMW-MaxPrice</th>\n",
       "      <th>BMW-MinPrice</th>\n",
       "      <th>BMW-StartPrice</th>\n",
       "      <th>CON-EndPrice</th>\n",
       "      <th>CON-MaxPrice</th>\n",
       "      <th>CON-MinPrice</th>\n",
       "      <th>CON-StartPrice</th>\n",
       "      <th>DAI-EndPrice</th>\n",
       "      <th>DAI-MaxPrice</th>\n",
       "      <th>DAI-MinPrice</th>\n",
       "      <th>DAI-StartPrice</th>\n",
       "      <th>PAH3-EndPrice</th>\n",
       "      <th>PAH3-MaxPrice</th>\n",
       "      <th>PAH3-MinPrice</th>\n",
       "      <th>PAH3-StartPrice</th>\n",
       "      <th>VOW3-EndPrice</th>\n",
       "      <th>VOW3-MaxPrice</th>\n",
       "      <th>VOW3-MinPrice</th>\n",
       "      <th>VOW3-StartPrice</th>\n",
       "    </tr>\n",
       "    <tr>\n",
       "      <th>CalcDateTime</th>\n",
       "      <th></th>\n",
       "      <th></th>\n",
       "      <th></th>\n",
       "      <th></th>\n",
       "      <th></th>\n",
       "      <th></th>\n",
       "      <th></th>\n",
       "      <th></th>\n",
       "      <th></th>\n",
       "      <th></th>\n",
       "      <th></th>\n",
       "      <th></th>\n",
       "      <th></th>\n",
       "      <th></th>\n",
       "      <th></th>\n",
       "      <th></th>\n",
       "      <th></th>\n",
       "      <th></th>\n",
       "      <th></th>\n",
       "      <th></th>\n",
       "    </tr>\n",
       "  </thead>\n",
       "  <tbody>\n",
       "    <tr>\n",
       "      <th>2017-07-03</th>\n",
       "      <td>83.12</td>\n",
       "      <td>83.52</td>\n",
       "      <td>81.86</td>\n",
       "      <td>81.96</td>\n",
       "      <td>190.30</td>\n",
       "      <td>191.55</td>\n",
       "      <td>189.55</td>\n",
       "      <td>189.80</td>\n",
       "      <td>64.14</td>\n",
       "      <td>64.48</td>\n",
       "      <td>63.60</td>\n",
       "      <td>63.68</td>\n",
       "      <td>50.66</td>\n",
       "      <td>50.73</td>\n",
       "      <td>49.62</td>\n",
       "      <td>49.69</td>\n",
       "      <td>136.10</td>\n",
       "      <td>136.70</td>\n",
       "      <td>134.50</td>\n",
       "      <td>134.85</td>\n",
       "    </tr>\n",
       "    <tr>\n",
       "      <th>2017-07-04</th>\n",
       "      <td>82.53</td>\n",
       "      <td>83.47</td>\n",
       "      <td>82.34</td>\n",
       "      <td>83.41</td>\n",
       "      <td>190.30</td>\n",
       "      <td>190.65</td>\n",
       "      <td>188.70</td>\n",
       "      <td>190.65</td>\n",
       "      <td>64.19</td>\n",
       "      <td>64.46</td>\n",
       "      <td>63.89</td>\n",
       "      <td>64.45</td>\n",
       "      <td>50.78</td>\n",
       "      <td>51.00</td>\n",
       "      <td>50.42</td>\n",
       "      <td>51.00</td>\n",
       "      <td>136.20</td>\n",
       "      <td>137.20</td>\n",
       "      <td>135.50</td>\n",
       "      <td>137.05</td>\n",
       "    </tr>\n",
       "    <tr>\n",
       "      <th>2017-07-05</th>\n",
       "      <td>81.48</td>\n",
       "      <td>81.84</td>\n",
       "      <td>81.19</td>\n",
       "      <td>81.76</td>\n",
       "      <td>189.20</td>\n",
       "      <td>189.95</td>\n",
       "      <td>188.65</td>\n",
       "      <td>189.75</td>\n",
       "      <td>63.54</td>\n",
       "      <td>63.89</td>\n",
       "      <td>63.25</td>\n",
       "      <td>63.88</td>\n",
       "      <td>50.37</td>\n",
       "      <td>50.77</td>\n",
       "      <td>50.10</td>\n",
       "      <td>50.71</td>\n",
       "      <td>135.55</td>\n",
       "      <td>136.55</td>\n",
       "      <td>134.60</td>\n",
       "      <td>136.20</td>\n",
       "    </tr>\n",
       "    <tr>\n",
       "      <th>2017-07-06</th>\n",
       "      <td>81.34</td>\n",
       "      <td>81.63</td>\n",
       "      <td>80.50</td>\n",
       "      <td>81.26</td>\n",
       "      <td>189.85</td>\n",
       "      <td>190.10</td>\n",
       "      <td>187.50</td>\n",
       "      <td>189.45</td>\n",
       "      <td>63.36</td>\n",
       "      <td>64.04</td>\n",
       "      <td>63.09</td>\n",
       "      <td>63.80</td>\n",
       "      <td>51.31</td>\n",
       "      <td>51.45</td>\n",
       "      <td>50.66</td>\n",
       "      <td>50.96</td>\n",
       "      <td>138.10</td>\n",
       "      <td>138.95</td>\n",
       "      <td>137.05</td>\n",
       "      <td>138.05</td>\n",
       "    </tr>\n",
       "    <tr>\n",
       "      <th>2017-07-07</th>\n",
       "      <td>81.26</td>\n",
       "      <td>81.35</td>\n",
       "      <td>80.83</td>\n",
       "      <td>81.19</td>\n",
       "      <td>188.90</td>\n",
       "      <td>189.15</td>\n",
       "      <td>187.20</td>\n",
       "      <td>188.70</td>\n",
       "      <td>63.44</td>\n",
       "      <td>63.57</td>\n",
       "      <td>63.13</td>\n",
       "      <td>63.21</td>\n",
       "      <td>51.17</td>\n",
       "      <td>51.26</td>\n",
       "      <td>50.80</td>\n",
       "      <td>51.09</td>\n",
       "      <td>138.75</td>\n",
       "      <td>138.75</td>\n",
       "      <td>137.60</td>\n",
       "      <td>138.05</td>\n",
       "    </tr>\n",
       "  </tbody>\n",
       "</table>\n",
       "</div>"
      ],
      "text/plain": [
       "              BMW-EndPrice  BMW-MaxPrice  BMW-MinPrice  BMW-StartPrice  \\\n",
       "CalcDateTime                                                             \n",
       "2017-07-03           83.12         83.52         81.86           81.96   \n",
       "2017-07-04           82.53         83.47         82.34           83.41   \n",
       "2017-07-05           81.48         81.84         81.19           81.76   \n",
       "2017-07-06           81.34         81.63         80.50           81.26   \n",
       "2017-07-07           81.26         81.35         80.83           81.19   \n",
       "\n",
       "              CON-EndPrice  CON-MaxPrice  CON-MinPrice  CON-StartPrice  \\\n",
       "CalcDateTime                                                             \n",
       "2017-07-03          190.30        191.55        189.55          189.80   \n",
       "2017-07-04          190.30        190.65        188.70          190.65   \n",
       "2017-07-05          189.20        189.95        188.65          189.75   \n",
       "2017-07-06          189.85        190.10        187.50          189.45   \n",
       "2017-07-07          188.90        189.15        187.20          188.70   \n",
       "\n",
       "              DAI-EndPrice  DAI-MaxPrice  DAI-MinPrice  DAI-StartPrice  \\\n",
       "CalcDateTime                                                             \n",
       "2017-07-03           64.14         64.48         63.60           63.68   \n",
       "2017-07-04           64.19         64.46         63.89           64.45   \n",
       "2017-07-05           63.54         63.89         63.25           63.88   \n",
       "2017-07-06           63.36         64.04         63.09           63.80   \n",
       "2017-07-07           63.44         63.57         63.13           63.21   \n",
       "\n",
       "              PAH3-EndPrice  PAH3-MaxPrice  PAH3-MinPrice  PAH3-StartPrice  \\\n",
       "CalcDateTime                                                                 \n",
       "2017-07-03            50.66          50.73          49.62            49.69   \n",
       "2017-07-04            50.78          51.00          50.42            51.00   \n",
       "2017-07-05            50.37          50.77          50.10            50.71   \n",
       "2017-07-06            51.31          51.45          50.66            50.96   \n",
       "2017-07-07            51.17          51.26          50.80            51.09   \n",
       "\n",
       "              VOW3-EndPrice  VOW3-MaxPrice  VOW3-MinPrice  VOW3-StartPrice  \n",
       "CalcDateTime                                                                \n",
       "2017-07-03           136.10         136.70         134.50           134.85  \n",
       "2017-07-04           136.20         137.20         135.50           137.05  \n",
       "2017-07-05           135.55         136.55         134.60           136.20  \n",
       "2017-07-06           138.10         138.95         137.05           138.05  \n",
       "2017-07-07           138.75         138.75         137.60           138.05  "
      ]
     },
     "execution_count": 4,
     "metadata": {},
     "output_type": "execute_result"
    }
   ],
   "source": [
    "%%time\n",
    "metrics=[]\n",
    "metrics.extend(covariate_columns)\n",
    "metrics.append(target_column)\n",
    "\n",
    "import boto3\n",
    "import pandas as pd\n",
    "import io\n",
    "\n",
    "# Function to Format DBG stock market data into a format suitable for DeepAR algorithm\n",
    "def deeparize(stockdata, stocksymbols, interval, metrices = None):\n",
    "    data_feed = pd.DataFrame()\n",
    "    data_feed['CalcDateTime'] = pd.to_datetime(pd.Series(sorted(list(stockdata.CalcDateTime.unique()))),infer_datetime_format=True)\n",
    "    data_feed.index = data_feed['CalcDateTime']\n",
    "    data_feed.drop('CalcDateTime', axis=1, inplace = True)\n",
    "\n",
    "    for mnemonic in stocksymbols:\n",
    "\n",
    "        mnemonic_data = stockdata[stockdata.Mnemonic == mnemonic].copy()\n",
    "        mnemonic_data.index = mnemonic_data['CalcDateTime']\n",
    "        mnemonic_data = mnemonic_data.sort_index()\n",
    "        mnemonic_data = mnemonic_data.iloc[:,-6:]\n",
    "        if metrices is None:\n",
    "            metrices = mnemonic_data.columns.values\n",
    "        for col in metrices:\n",
    "            metric_col = mnemonic_data[col].to_frame()\n",
    "            metric_col.columns = [\"{}-{}\".format(mnemonic,col)]\n",
    "            data_feed = data_feed.add(metric_col, fill_value=0)            \n",
    "            \n",
    "    data_feed = data_feed.resample(interval).mean()       \n",
    "    data_feed.fillna(method='backfill', limit=1, inplace=True)\n",
    "    data_feed.fillna(method='ffill', inplace=True) \n",
    "    data_feed.fillna(value=0, inplace=True)\n",
    "    return data_feed\n",
    "\n",
    "def load_resampled_from_s3(interval, bucket, s3_data_key, mnemonics=None, metrices = None):\n",
    "    s3 = boto3.client('s3')\n",
    "    obj = s3.get_object(Bucket=bucket, Key=\"{}/{}/resampled_stockdata.csv\".format(s3_data_key, interval))\n",
    "    loaded = pd.read_csv(io.BytesIO(obj['Body'].read()), parse_dates=True)\n",
    "    if mnemonics is None:\n",
    "        mnemonics = list(loaded.Mnemonic.unique())\n",
    "    return deeparize(loaded, mnemonics, interval, metrices), mnemonics\n",
    "\n",
    "\n",
    "stock_data_series, symbols = load_resampled_from_s3(interval, s3_bucket, s3_data_key, mnemonics, metrics)\n",
    "print(stock_data_series.shape)\n",
    "stock_data_series.head()"
   ]
  },
  {
   "cell_type": "markdown",
   "metadata": {},
   "source": [
    "Finally you split the formatted data into training and test channels and host on your S3 bucket, to be fed into estimator at training phase.\n"
   ]
  },
  {
   "cell_type": "code",
   "execution_count": 16,
   "metadata": {},
   "outputs": [],
   "source": [
    "import numpy as np\n",
    "selected = stock_data_series.sort_index()\n",
    "train_set, test_set= np.split(selected, [int(.8 *len(selected))])"
   ]
  },
  {
   "cell_type": "markdown",
   "metadata": {},
   "source": [
    "Now we build both the training and the testing set from target values and dynamic features."
   ]
  },
  {
   "cell_type": "code",
   "execution_count": 17,
   "metadata": {},
   "outputs": [],
   "source": [
    "import datetime\n",
    "from gluonts.dataset.common import ListDataset\n",
    "# Function to convert data frames containing time series data to JSON serialized data that DeepAR works with\n",
    "def json_serialize(data, start, end, target_column, covariate_columns, interval):\n",
    "    timeseries = {}\n",
    "\n",
    "    for i, col in enumerate(data.columns):\n",
    "        metric = col[col.find('-')+1:]\n",
    "        stock = col[:col.find('-')]\n",
    "        if metric == target_column:\n",
    "            if stock in timeseries.keys():\n",
    "                timeseries[stock][\"target\"] = data.iloc[:,i][start:end]\n",
    "            else:\n",
    "                timeseries[stock] = {}\n",
    "                timeseries[stock][\"start\"] = str(pd.Timestamp(datetime.datetime.strptime(str(start), \"%Y-%m-%d %H:%M:%S\").strftime(\"%Y-%m-%d %H:%M:%S\"), freq = interval))\n",
    "                timeseries[stock][\"target\"] = data.iloc[:,i][start:end]            \n",
    "            print(\"Time series for {} added\".format(stock))\n",
    "        elif metric in covariate_columns:\n",
    "            if stock in timeseries.keys():\n",
    "                if \"dynamic_feat\" in timeseries[stock]:\n",
    "                    dynamic_feat = timeseries[stock][\"dynamic_feat\"]\n",
    "                    dynamic_feat.append(data.iloc[:,i][start:end])\n",
    "                else:\n",
    "                    dynamic_feat = []\n",
    "                    dynamic_feat.append(data.iloc[:,i][start:end])\n",
    "                    timeseries[stock][\"dynamic_feat\"] = dynamic_feat\n",
    "            else:\n",
    "                timeseries[stock] = {}\n",
    "                dynamic_feat = []\n",
    "                dynamic_feat.append(data.iloc[:,i])\n",
    "                timeseries[stock][\"dynamic_feat\"] = dynamic_feat            \n",
    "            print(\"Dynamic Feature - {} for {} added\".format(metric, stock))\n",
    "        else:\n",
    "            pass\n",
    "\n",
    "    json_data = ListDataset(\n",
    "     data_iter=[\n",
    "        {\n",
    "            \"start\": pd.Timestamp(ts[\"start\"], freq='1D'),\n",
    "            \"target\": ts[\"target\"].tolist(),  \n",
    "            \"feat_dynamic_real\": [feat.tolist() for feat in ts[\"dynamic_feat\"]]\n",
    "        }\n",
    "        for ts in timeseries.values()\n",
    "    ], freq=\"1D\"\n",
    "    )\n",
    "    return json_data\n",
    "\n"
   ]
  },
  {
   "cell_type": "code",
   "execution_count": 18,
   "metadata": {},
   "outputs": [],
   "source": [
    "train_start_dt = train_set.index[0]\n",
    "train_end_dt = train_set.index[-1]   \n",
    "test_start_dt = test_set.index[0]\n",
    "test_end_dt = test_set.index[-1]   "
   ]
  },
  {
   "cell_type": "code",
   "execution_count": 19,
   "metadata": {},
   "outputs": [
    {
     "name": "stdout",
     "output_type": "stream",
     "text": [
      "Time series for BMW added\n",
      "Dynamic Feature - MaxPrice for BMW added\n",
      "Dynamic Feature - MinPrice for BMW added\n",
      "Dynamic Feature - StartPrice for BMW added\n",
      "Time series for CON added\n",
      "Dynamic Feature - MaxPrice for CON added\n",
      "Dynamic Feature - MinPrice for CON added\n",
      "Dynamic Feature - StartPrice for CON added\n",
      "Time series for DAI added\n",
      "Dynamic Feature - MaxPrice for DAI added\n",
      "Dynamic Feature - MinPrice for DAI added\n",
      "Dynamic Feature - StartPrice for DAI added\n",
      "Time series for PAH3 added\n",
      "Dynamic Feature - MaxPrice for PAH3 added\n",
      "Dynamic Feature - MinPrice for PAH3 added\n",
      "Dynamic Feature - StartPrice for PAH3 added\n",
      "Time series for VOW3 added\n",
      "Dynamic Feature - MaxPrice for VOW3 added\n",
      "Dynamic Feature - MinPrice for VOW3 added\n",
      "Dynamic Feature - StartPrice for VOW3 added\n",
      "Time series for BMW added\n",
      "Dynamic Feature - MaxPrice for BMW added\n",
      "Dynamic Feature - MinPrice for BMW added\n",
      "Dynamic Feature - StartPrice for BMW added\n",
      "Time series for CON added\n",
      "Dynamic Feature - MaxPrice for CON added\n",
      "Dynamic Feature - MinPrice for CON added\n",
      "Dynamic Feature - StartPrice for CON added\n",
      "Time series for DAI added\n",
      "Dynamic Feature - MaxPrice for DAI added\n",
      "Dynamic Feature - MinPrice for DAI added\n",
      "Dynamic Feature - StartPrice for DAI added\n",
      "Time series for PAH3 added\n",
      "Dynamic Feature - MaxPrice for PAH3 added\n",
      "Dynamic Feature - MinPrice for PAH3 added\n",
      "Dynamic Feature - StartPrice for PAH3 added\n",
      "Time series for VOW3 added\n",
      "Dynamic Feature - MaxPrice for VOW3 added\n",
      "Dynamic Feature - MinPrice for VOW3 added\n",
      "Dynamic Feature - StartPrice for VOW3 added\n"
     ]
    }
   ],
   "source": [
    "train_json = json_serialize(train_set, train_start_dt, train_end_dt, target_column, covariate_columns, interval)\n",
    "test_json = json_serialize(test_set, test_start_dt, test_end_dt, target_column, covariate_columns, interval)"
   ]
  },
  {
   "cell_type": "markdown",
   "metadata": {},
   "source": [
    "## Model Training\n",
    "\n",
    "Having obtained our training and testing data, we can now create a GluonTS estimator. In our example we will use the DeepAREstimator, an autoregressive RNN which was developed primarily for the purpose of time series forecasting. Note however that you can use a variety of different estimators. Also, since GluonTS is mainly target at probabilistic time series forecasting, lots of different output distributions can be specified. In the M5 case, we think that the NegativeBinomialOutput distribution best describes the output.\n",
    "\n",
    "[DeepAR Hhyperparameters](https://docs.aws.amazon.com/sagemaker/latest/dg/deepar_hyperparameters.html) allows you to control certain aspects of your NN architecture, such as number of layers, number of recurrent units in each layer, learning rate, prediction length and context (horizon and lag), dropout rate etc. In the cell above we configured some, so as to get good accuracy, within a reasonable training time, as suitable or this workshop.\n",
    "\n",
    "In practice, you can use another valuable feature of SageMaker - [Hyperparameter tuning](https://docs.aws.amazon.com/sagemaker/latest/dg/automatic-model-tuning.html) to conduct a sort of grid search over your hyperparameters space and find the best combination for your use case."
   ]
  },
  {
   "cell_type": "code",
   "execution_count": 20,
   "metadata": {},
   "outputs": [
    {
     "name": "stdout",
     "output_type": "stream",
     "text": [
      "Requirement already satisfied: gluonts in /home/ec2-user/anaconda3/envs/python3/lib/python3.6/site-packages (0.5.1)\n",
      "Requirement already satisfied: matplotlib~=3.0 in /home/ec2-user/anaconda3/envs/python3/lib/python3.6/site-packages (from gluonts) (3.1.3)\n",
      "Requirement already satisfied: ujson~=1.35 in /home/ec2-user/anaconda3/envs/python3/lib/python3.6/site-packages (from gluonts) (1.35)\n",
      "Requirement already satisfied: tqdm~=4.23 in /home/ec2-user/anaconda3/envs/python3/lib/python3.6/site-packages (from gluonts) (4.44.1)\n",
      "Requirement already satisfied: pydantic~=1.1 in /home/ec2-user/anaconda3/envs/python3/lib/python3.6/site-packages (from gluonts) (1.6.1)\n",
      "Requirement already satisfied: numpy~=1.16 in /home/ec2-user/anaconda3/envs/python3/lib/python3.6/site-packages (from gluonts) (1.18.1)\n",
      "Requirement already satisfied: pandas<1.1,>=1.0 in /home/ec2-user/anaconda3/envs/python3/lib/python3.6/site-packages (from gluonts) (1.0.5)\n",
      "Requirement already satisfied: holidays<0.10,>=0.9 in /home/ec2-user/anaconda3/envs/python3/lib/python3.6/site-packages (from gluonts) (0.9.12)\n",
      "Requirement already satisfied: kiwisolver>=1.0.1 in /home/ec2-user/anaconda3/envs/python3/lib/python3.6/site-packages (from matplotlib~=3.0->gluonts) (1.1.0)\n",
      "Requirement already satisfied: python-dateutil>=2.1 in /home/ec2-user/anaconda3/envs/python3/lib/python3.6/site-packages (from matplotlib~=3.0->gluonts) (2.8.1)\n",
      "Requirement already satisfied: pyparsing!=2.0.4,!=2.1.2,!=2.1.6,>=2.0.1 in /home/ec2-user/anaconda3/envs/python3/lib/python3.6/site-packages (from matplotlib~=3.0->gluonts) (2.4.6)\n",
      "Requirement already satisfied: cycler>=0.10 in /home/ec2-user/anaconda3/envs/python3/lib/python3.6/site-packages (from matplotlib~=3.0->gluonts) (0.10.0)\n",
      "Requirement already satisfied: dataclasses>=0.6; python_version < \"3.7\" in /home/ec2-user/anaconda3/envs/python3/lib/python3.6/site-packages (from pydantic~=1.1->gluonts) (0.7)\n",
      "Requirement already satisfied: pytz>=2017.2 in /home/ec2-user/anaconda3/envs/python3/lib/python3.6/site-packages (from pandas<1.1,>=1.0->gluonts) (2019.3)\n",
      "Requirement already satisfied: six in /home/ec2-user/anaconda3/envs/python3/lib/python3.6/site-packages (from holidays<0.10,>=0.9->gluonts) (1.14.0)\n",
      "Requirement already satisfied: setuptools in /home/ec2-user/anaconda3/envs/python3/lib/python3.6/site-packages (from kiwisolver>=1.0.1->matplotlib~=3.0->gluonts) (46.1.3.post20200330)\n",
      "\u001b[33mWARNING: You are using pip version 20.0.2; however, version 20.2.2 is available.\n",
      "You should consider upgrading via the '/home/ec2-user/anaconda3/envs/python3/bin/python -m pip install --upgrade pip' command.\u001b[0m\n"
     ]
    },
    {
     "name": "stderr",
     "output_type": "stream",
     "text": [
      "  0%|          | 0/50 [00:00<?, ?it/s]"
     ]
    },
    {
     "name": "stdout",
     "output_type": "stream",
     "text": [
      "learning rate from ``lr_scheduler`` has been overwritten by ``learning_rate`` in optimizer.\n"
     ]
    },
    {
     "name": "stderr",
     "output_type": "stream",
     "text": [
      "100%|██████████| 50/50 [00:35<00:00,  1.43it/s, epoch=1/100, avg_epoch_loss=5.18]\n",
      "100%|██████████| 50/50 [00:34<00:00,  1.43it/s, epoch=2/100, avg_epoch_loss=3.59]\n",
      "100%|██████████| 50/50 [00:35<00:00,  1.40it/s, epoch=3/100, avg_epoch_loss=3.47]\n",
      "100%|██████████| 50/50 [00:34<00:00,  1.46it/s, epoch=4/100, avg_epoch_loss=3.25]\n",
      "100%|██████████| 50/50 [00:33<00:00,  1.50it/s, epoch=5/100, avg_epoch_loss=3.13]\n",
      "100%|██████████| 50/50 [00:34<00:00,  1.47it/s, epoch=6/100, avg_epoch_loss=3.05]\n",
      "100%|██████████| 50/50 [00:36<00:00,  1.39it/s, epoch=7/100, avg_epoch_loss=2.98]\n",
      "100%|██████████| 50/50 [00:35<00:00,  1.41it/s, epoch=8/100, avg_epoch_loss=3.06]\n",
      "100%|██████████| 50/50 [00:36<00:00,  1.35it/s, epoch=9/100, avg_epoch_loss=2.89]\n",
      "100%|██████████| 50/50 [00:35<00:00,  1.41it/s, epoch=10/100, avg_epoch_loss=2.84]\n",
      "100%|██████████| 50/50 [00:34<00:00,  1.43it/s, epoch=11/100, avg_epoch_loss=2.79]\n",
      "100%|██████████| 50/50 [00:35<00:00,  1.41it/s, epoch=12/100, avg_epoch_loss=2.73]\n",
      "100%|██████████| 50/50 [00:35<00:00,  1.40it/s, epoch=13/100, avg_epoch_loss=2.7] \n",
      "100%|██████████| 50/50 [00:36<00:00,  1.39it/s, epoch=14/100, avg_epoch_loss=2.69]\n",
      "100%|██████████| 50/50 [00:35<00:00,  1.39it/s, epoch=15/100, avg_epoch_loss=2.67]\n",
      "100%|██████████| 50/50 [00:35<00:00,  1.41it/s, epoch=16/100, avg_epoch_loss=2.65]\n",
      "100%|██████████| 50/50 [00:36<00:00,  1.36it/s, epoch=17/100, avg_epoch_loss=2.61]\n",
      "100%|██████████| 50/50 [00:36<00:00,  1.36it/s, epoch=18/100, avg_epoch_loss=2.61]\n",
      "100%|██████████| 50/50 [00:36<00:00,  1.36it/s, epoch=19/100, avg_epoch_loss=2.58]\n",
      "100%|██████████| 50/50 [00:36<00:00,  1.37it/s, epoch=20/100, avg_epoch_loss=2.56]\n",
      "100%|██████████| 50/50 [00:35<00:00,  1.41it/s, epoch=21/100, avg_epoch_loss=2.53]\n",
      "100%|██████████| 50/50 [00:35<00:00,  1.40it/s, epoch=22/100, avg_epoch_loss=2.51]\n",
      "100%|██████████| 50/50 [00:35<00:00,  1.40it/s, epoch=23/100, avg_epoch_loss=2.48]\n",
      "100%|██████████| 50/50 [00:35<00:00,  1.41it/s, epoch=24/100, avg_epoch_loss=2.45]\n",
      "100%|██████████| 50/50 [00:35<00:00,  1.41it/s, epoch=25/100, avg_epoch_loss=2.23]\n",
      "100%|██████████| 50/50 [00:35<00:00,  1.40it/s, epoch=26/100, avg_epoch_loss=2.17]\n",
      "100%|██████████| 50/50 [00:35<00:00,  1.40it/s, epoch=27/100, avg_epoch_loss=2.13]\n",
      "100%|██████████| 50/50 [00:35<00:00,  1.39it/s, epoch=28/100, avg_epoch_loss=2.07]\n",
      "100%|██████████| 50/50 [00:35<00:00,  1.40it/s, epoch=29/100, avg_epoch_loss=2.05]\n",
      "100%|██████████| 50/50 [00:36<00:00,  1.38it/s, epoch=30/100, avg_epoch_loss=2.3] \n",
      "100%|██████████| 50/50 [00:35<00:00,  1.40it/s, epoch=31/100, avg_epoch_loss=2.76]\n",
      "100%|██████████| 50/50 [00:35<00:00,  1.41it/s, epoch=32/100, avg_epoch_loss=2.68]\n",
      "100%|██████████| 50/50 [00:35<00:00,  1.41it/s, epoch=33/100, avg_epoch_loss=2.6] \n",
      "100%|██████████| 50/50 [00:35<00:00,  1.40it/s, epoch=34/100, avg_epoch_loss=2.39]\n",
      "100%|██████████| 50/50 [00:35<00:00,  1.39it/s, epoch=35/100, avg_epoch_loss=2.4] \n",
      "100%|██████████| 50/50 [00:35<00:00,  1.41it/s, epoch=36/100, avg_epoch_loss=2.27]\n",
      "100%|██████████| 50/50 [00:35<00:00,  1.42it/s, epoch=37/100, avg_epoch_loss=2.06]\n",
      "100%|██████████| 50/50 [00:34<00:00,  1.44it/s, epoch=38/100, avg_epoch_loss=2]   \n",
      "100%|██████████| 50/50 [00:34<00:00,  1.44it/s, epoch=39/100, avg_epoch_loss=1.99]\n",
      "100%|██████████| 50/50 [00:34<00:00,  1.44it/s, epoch=40/100, avg_epoch_loss=1.96]\n",
      "100%|██████████| 50/50 [00:34<00:00,  1.44it/s, epoch=41/100, avg_epoch_loss=1.92]\n",
      "100%|██████████| 50/50 [00:34<00:00,  1.44it/s, epoch=42/100, avg_epoch_loss=1.94]\n",
      "100%|██████████| 50/50 [00:34<00:00,  1.44it/s, epoch=43/100, avg_epoch_loss=1.9]\n",
      "100%|██████████| 50/50 [00:34<00:00,  1.44it/s, epoch=44/100, avg_epoch_loss=1.88]\n",
      "100%|██████████| 50/50 [00:34<00:00,  1.43it/s, epoch=45/100, avg_epoch_loss=1.87]\n",
      "100%|██████████| 50/50 [00:35<00:00,  1.43it/s, epoch=46/100, avg_epoch_loss=1.87]\n",
      "100%|██████████| 50/50 [00:35<00:00,  1.41it/s, epoch=47/100, avg_epoch_loss=1.88]\n",
      "100%|██████████| 50/50 [00:35<00:00,  1.41it/s, epoch=48/100, avg_epoch_loss=1.82]\n",
      "100%|██████████| 50/50 [00:34<00:00,  1.43it/s, epoch=49/100, avg_epoch_loss=1.82]\n",
      "100%|██████████| 50/50 [00:34<00:00,  1.43it/s, epoch=50/100, avg_epoch_loss=1.8] \n",
      "100%|██████████| 50/50 [00:34<00:00,  1.44it/s, epoch=51/100, avg_epoch_loss=1.77]\n",
      "100%|██████████| 50/50 [00:34<00:00,  1.44it/s, epoch=52/100, avg_epoch_loss=1.79]\n",
      "100%|██████████| 50/50 [00:34<00:00,  1.43it/s, epoch=53/100, avg_epoch_loss=1.77]\n",
      "100%|██████████| 50/50 [00:35<00:00,  1.43it/s, epoch=54/100, avg_epoch_loss=1.76]\n",
      "100%|██████████| 50/50 [00:35<00:00,  1.43it/s, epoch=55/100, avg_epoch_loss=1.76]\n",
      "100%|██████████| 50/50 [00:34<00:00,  1.43it/s, epoch=56/100, avg_epoch_loss=1.73]\n",
      "100%|██████████| 50/50 [00:35<00:00,  1.42it/s, epoch=57/100, avg_epoch_loss=1.72]\n",
      "100%|██████████| 50/50 [00:35<00:00,  1.41it/s, epoch=58/100, avg_epoch_loss=1.71]\n",
      "100%|██████████| 50/50 [00:35<00:00,  1.40it/s, epoch=59/100, avg_epoch_loss=1.75]\n",
      "100%|██████████| 50/50 [00:34<00:00,  1.43it/s, epoch=60/100, avg_epoch_loss=1.68]\n",
      "100%|██████████| 50/50 [00:35<00:00,  1.39it/s, epoch=61/100, avg_epoch_loss=1.7] \n",
      "100%|██████████| 50/50 [00:35<00:00,  1.40it/s, epoch=62/100, avg_epoch_loss=1.68]\n",
      "100%|██████████| 50/50 [00:35<00:00,  1.41it/s, epoch=63/100, avg_epoch_loss=1.66]\n",
      "100%|██████████| 50/50 [00:35<00:00,  1.40it/s, epoch=64/100, avg_epoch_loss=1.67]\n",
      "100%|██████████| 50/50 [00:36<00:00,  1.38it/s, epoch=65/100, avg_epoch_loss=1.69]\n",
      "100%|██████████| 50/50 [00:35<00:00,  1.40it/s, epoch=66/100, avg_epoch_loss=1.68]\n",
      "100%|██████████| 50/50 [00:35<00:00,  1.42it/s, epoch=67/100, avg_epoch_loss=1.67]\n",
      "100%|██████████| 50/50 [00:35<00:00,  1.40it/s, epoch=68/100, avg_epoch_loss=1.66]\n",
      "100%|██████████| 50/50 [00:36<00:00,  1.39it/s, epoch=69/100, avg_epoch_loss=1.65]\n",
      "100%|██████████| 50/50 [00:35<00:00,  1.40it/s, epoch=70/100, avg_epoch_loss=1.63]\n",
      "100%|██████████| 50/50 [00:35<00:00,  1.40it/s, epoch=71/100, avg_epoch_loss=1.63]\n",
      "100%|██████████| 50/50 [00:35<00:00,  1.39it/s, epoch=72/100, avg_epoch_loss=1.63]\n",
      "100%|██████████| 50/50 [00:35<00:00,  1.41it/s, epoch=73/100, avg_epoch_loss=1.62]\n",
      "100%|██████████| 50/50 [00:35<00:00,  1.40it/s, epoch=74/100, avg_epoch_loss=1.62]\n",
      "100%|██████████| 50/50 [00:35<00:00,  1.40it/s, epoch=75/100, avg_epoch_loss=1.63]\n",
      "100%|██████████| 50/50 [00:36<00:00,  1.39it/s, epoch=76/100, avg_epoch_loss=1.6] \n",
      "100%|██████████| 50/50 [00:36<00:00,  1.35it/s, epoch=77/100, avg_epoch_loss=1.63]\n",
      "100%|██████████| 50/50 [00:36<00:00,  1.38it/s, epoch=78/100, avg_epoch_loss=1.6] \n",
      "100%|██████████| 50/50 [00:36<00:00,  1.38it/s, epoch=79/100, avg_epoch_loss=1.61]\n",
      "100%|██████████| 50/50 [00:36<00:00,  1.37it/s, epoch=80/100, avg_epoch_loss=1.58]\n",
      "100%|██████████| 50/50 [00:36<00:00,  1.37it/s, epoch=81/100, avg_epoch_loss=1.59]\n",
      "100%|██████████| 50/50 [00:36<00:00,  1.37it/s, epoch=82/100, avg_epoch_loss=1.6] \n",
      "100%|██████████| 50/50 [00:36<00:00,  1.38it/s, epoch=83/100, avg_epoch_loss=1.6] \n",
      "100%|██████████| 50/50 [00:36<00:00,  1.37it/s, epoch=84/100, avg_epoch_loss=1.57]\n",
      "100%|██████████| 50/50 [00:36<00:00,  1.36it/s, epoch=85/100, avg_epoch_loss=1.58]\n",
      "100%|██████████| 50/50 [00:36<00:00,  1.38it/s, epoch=86/100, avg_epoch_loss=1.56]\n",
      "100%|██████████| 50/50 [00:36<00:00,  1.37it/s, epoch=87/100, avg_epoch_loss=1.57]\n",
      "100%|██████████| 50/50 [00:36<00:00,  1.38it/s, epoch=88/100, avg_epoch_loss=1.55]\n",
      "100%|██████████| 50/50 [00:36<00:00,  1.38it/s, epoch=89/100, avg_epoch_loss=1.56]\n",
      "100%|██████████| 50/50 [00:35<00:00,  1.41it/s, epoch=90/100, avg_epoch_loss=1.55]\n",
      "100%|██████████| 50/50 [00:35<00:00,  1.41it/s, epoch=91/100, avg_epoch_loss=1.56]\n",
      "100%|██████████| 50/50 [00:35<00:00,  1.39it/s, epoch=92/100, avg_epoch_loss=1.57]\n",
      "100%|██████████| 50/50 [00:35<00:00,  1.39it/s, epoch=93/100, avg_epoch_loss=1.57]\n",
      "100%|██████████| 50/50 [00:34<00:00,  1.43it/s, epoch=94/100, avg_epoch_loss=1.55]\n",
      "100%|██████████| 50/50 [00:34<00:00,  1.43it/s, epoch=95/100, avg_epoch_loss=1.53]\n",
      "100%|██████████| 50/50 [00:34<00:00,  1.44it/s, epoch=96/100, avg_epoch_loss=1.55]\n",
      "100%|██████████| 50/50 [00:34<00:00,  1.46it/s, epoch=97/100, avg_epoch_loss=1.53]\n",
      "100%|██████████| 50/50 [00:34<00:00,  1.47it/s, epoch=98/100, avg_epoch_loss=1.53]\n",
      "100%|██████████| 50/50 [00:34<00:00,  1.46it/s, epoch=99/100, avg_epoch_loss=1.53]\n",
      "100%|██████████| 50/50 [00:33<00:00,  1.49it/s, epoch=100/100, avg_epoch_loss=1.51]\n"
     ]
    }
   ],
   "source": [
    "!pip install gluonts\n",
    "from gluonts.model.deepar import DeepAREstimator\n",
    "from gluonts.distribution import GaussianOutput\n",
    "from gluonts.trainer import Trainer\n",
    "\n",
    "estimator = DeepAREstimator(\n",
    "    prediction_length=prediction_length,\n",
    "    context_length=context_length,\n",
    "    freq=\"D\",\n",
    "    num_layers=2, \n",
    "    num_cells=40, \n",
    "    dropout_rate=0.1,\n",
    "    distr_output=GaussianOutput(),\n",
    "    use_feat_dynamic_real=True,\n",
    "    trainer=Trainer(epochs=100,\n",
    "        learning_rate=1e-3,\n",
    "        num_batches_per_epoch=50,\n",
    "        batch_size=128,\n",
    "        patience=40)\n",
    ")\n",
    "\n",
    "predictor = estimator.train(train_json)"
   ]
  },
  {
   "cell_type": "markdown",
   "metadata": {},
   "source": [
    "## Saving/Loading an existing model\n",
    "A fitted model, i.e., a Predictor, can be saved and loaded back easily"
   ]
  },
  {
   "cell_type": "code",
   "execution_count": null,
   "metadata": {},
   "outputs": [],
   "source": [
    "# save the trained model in tmp/\n",
    "from pathlib import Path\n",
    "predictor.serialize(Path(\"/tmp/\"))"
   ]
  },
  {
   "cell_type": "code",
   "execution_count": null,
   "metadata": {},
   "outputs": [],
   "source": [
    "# loads it back\n",
    "from gluonts.model.predictor import Predictor\n",
    "predictor_deserialized = Predictor.deserialize(Path(\"/tmp/\"))"
   ]
  },
  {
   "cell_type": "markdown",
   "metadata": {},
   "source": [
    "## Generating forecasts\n",
    "Once the estimator is fully trained, we can generate predictions from it for the test values.\n"
   ]
  },
  {
   "cell_type": "code",
   "execution_count": 21,
   "metadata": {},
   "outputs": [
    {
     "name": "stdout",
     "output_type": "stream",
     "text": [
      "Obtaining time series conditioning values ...\n"
     ]
    },
    {
     "data": {
      "application/vnd.jupyter.widget-view+json": {
       "model_id": "526b498623914303a5344eaa938fdd13",
       "version_major": 2,
       "version_minor": 0
      },
      "text/plain": [
       "HBox(children=(FloatProgress(value=0.0, max=5.0), HTML(value='')))"
      ]
     },
     "metadata": {},
     "output_type": "display_data"
    },
    {
     "name": "stdout",
     "output_type": "stream",
     "text": [
      "\n",
      "Obtaining time series predictions ...\n"
     ]
    },
    {
     "data": {
      "application/vnd.jupyter.widget-view+json": {
       "model_id": "bf5c4ea0ae4c49209e0071099fe82ea0",
       "version_major": 2,
       "version_minor": 0
      },
      "text/plain": [
       "HBox(children=(FloatProgress(value=0.0, max=5.0), HTML(value='')))"
      ]
     },
     "metadata": {},
     "output_type": "display_data"
    },
    {
     "name": "stdout",
     "output_type": "stream",
     "text": [
      "\n"
     ]
    }
   ],
   "source": [
    "from gluonts.evaluation.backtest import make_evaluation_predictions\n",
    "\n",
    "forecast_it, ts_it = make_evaluation_predictions(\n",
    "    dataset=test_json,\n",
    "    predictor=predictor,\n",
    "    num_samples=65\n",
    ")\n",
    "\n",
    "print(\"Obtaining time series conditioning values ...\")\n",
    "tss = list(tqdm(ts_it, total=len(test_json)))\n",
    "print(\"Obtaining time series predictions ...\")\n",
    "forecasts = list(tqdm(forecast_it, total=len(test_json)))"
   ]
  },
  {
   "cell_type": "markdown",
   "metadata": {},
   "source": [
    "Now we create a custom evaluator which, in addition to GluonTS's standard performance metrics, also returns MRMSSE (corresponding to the mean RMSSE). "
   ]
  },
  {
   "cell_type": "code",
   "execution_count": 22,
   "metadata": {},
   "outputs": [
    {
     "name": "stderr",
     "output_type": "stream",
     "text": [
      "Running evaluation: 100%|██████████| 5/5 [00:00<00:00, 216.36it/s]"
     ]
    },
    {
     "name": "stdout",
     "output_type": "stream",
     "text": [
      "{\n",
      "    \"MSE\": 144.13641629732572,\n",
      "    \"abs_error\": 2191.0641326904297,\n",
      "    \"abs_target_sum\": 31252.248779296875,\n",
      "    \"abs_target_mean\": 96.16076547475961,\n",
      "    \"seasonal_error\": 0.9662580428584929,\n",
      "    \"MASE\": 5.213259141800666,\n",
      "    \"MAPE\": 0.05764099816775735,\n",
      "    \"sMAPE\": 0.054051056718994225,\n",
      "    \"OWA\": NaN,\n",
      "    \"MSIS\": 208.91195481967847,\n",
      "    \"QuantileLoss[0.5]\": 2191.0640754699707,\n",
      "    \"Coverage[0.5]\": 0.9353846153846155,\n",
      "    \"QuantileLoss[0.67]\": 1542.811789398193,\n",
      "    \"Coverage[0.67]\": 0.9815384615384616,\n",
      "    \"QuantileLoss[0.95]\": 278.0602039337161,\n",
      "    \"Coverage[0.95]\": 0.9938461538461538,\n",
      "    \"QuantileLoss[0.99]\": 58.623118515014696,\n",
      "    \"Coverage[0.99]\": 0.9969230769230769,\n",
      "    \"RMSE\": 12.005682666859295,\n",
      "    \"NRMSE\": 0.12485011540398522,\n",
      "    \"ND\": 0.07010900713621303,\n",
      "    \"wQuantileLoss[0.5]\": 0.0701090053052901,\n",
      "    \"wQuantileLoss[0.67]\": 0.049366424806532076,\n",
      "    \"wQuantileLoss[0.95]\": 0.008897286268817804,\n",
      "    \"wQuantileLoss[0.99]\": 0.0018758048078079334,\n",
      "    \"mean_wQuantileLoss\": 0.03256213029711198,\n",
      "    \"MAE_Coverage\": 0.19942307692307695,\n",
      "    \"MRMSSE\": 12.845471048355103\n",
      "}\n"
     ]
    },
    {
     "name": "stderr",
     "output_type": "stream",
     "text": [
      "\n"
     ]
    }
   ],
   "source": [
    "from gluonts.evaluation import Evaluator\n",
    "    \n",
    "class STOCKEvaluator(Evaluator):\n",
    "\n",
    "    def get_metrics_per_ts(self, time_series, forecast):\n",
    "        successive_diff = np.diff(time_series.values.reshape(len(time_series)))\n",
    "        successive_diff = successive_diff ** 2\n",
    "        successive_diff = successive_diff[:-prediction_length]\n",
    "        denom = np.mean(successive_diff)\n",
    "        pred_values = forecast.samples.mean(axis=0)\n",
    "        true_values = time_series.values.reshape(len(time_series))[-prediction_length:]\n",
    "        num = np.mean((pred_values - true_values)**2)\n",
    "        rmsse = num / denom\n",
    "        metrics = super().get_metrics_per_ts(time_series, forecast)\n",
    "        metrics[\"RMSSE\"] = rmsse\n",
    "        return metrics\n",
    "\n",
    "    def get_aggregate_metrics(self, metric_per_ts):\n",
    "        wrmsse = metric_per_ts[\"RMSSE\"].mean()\n",
    "        agg_metric , _ = super().get_aggregate_metrics(metric_per_ts)\n",
    "        agg_metric[\"MRMSSE\"] = wrmsse\n",
    "        return agg_metric, metric_per_ts\n",
    "\n",
    "\n",
    "evaluator = STOCKEvaluator(quantiles=[0.5, 0.67, 0.95, 0.99])\n",
    "agg_metrics, item_metrics = evaluator(iter(tss), iter(forecasts), num_series=len(test_json))\n",
    "print(json.dumps(agg_metrics, indent=4))"
   ]
  },
  {
   "cell_type": "markdown",
   "metadata": {},
   "source": [
    "## Plotting prediction\n",
    "Finally, we can also visualize our predictions for the test time series."
   ]
  },
  {
   "cell_type": "code",
   "execution_count": 25,
   "metadata": {},
   "outputs": [
    {
     "name": "stdout",
     "output_type": "stream",
     "text": [
      "Plotting time series predictions ...\n"
     ]
    },
    {
     "data": {
      "application/vnd.jupyter.widget-view+json": {
       "model_id": "2ec5118cad624951ab79b4c3250d5652",
       "version_major": 2,
       "version_minor": 0
      },
      "text/plain": [
       "HBox(children=(FloatProgress(value=0.0, max=1.0), HTML(value='')))"
      ]
     },
     "metadata": {},
     "output_type": "display_data"
    },
    {
     "data": {
      "image/png": "[encoded data removed]",
      "text/plain": [
       "<Figure size 720x504 with 1 Axes>"
      ]
     },
     "metadata": {
      "needs_background": "light"
     },
     "output_type": "display_data"
    },
    {
     "name": "stdout",
     "output_type": "stream",
     "text": [
      "\n"
     ]
    },
    {
     "data": {
      "text/plain": [
       "<Figure size 432x288 with 0 Axes>"
      ]
     },
     "metadata": {},
     "output_type": "display_data"
    }
   ],
   "source": [
    "plot_log_path = \"./plots/\"\n",
    "directory = os.path.dirname(plot_log_path)\n",
    "if not os.path.exists(directory):\n",
    "    os.makedirs(directory)\n",
    "    \n",
    "def plot_prob_forecasts(ts_entry, forecast_entry, path, sample_id, inline=True):\n",
    "    plot_length = 324\n",
    "    prediction_intervals = (50, 67, 95, 99)\n",
    "    legend = [\"observations\", \"median prediction\"] + [f\"{k}% prediction interval\" for k in prediction_intervals][::-1]\n",
    "\n",
    "    _, ax = plt.subplots(1, 1, figsize=(10, 7))\n",
    "    ts_entry[-plot_length:].plot(ax=ax)\n",
    "    forecast_entry.plot(prediction_intervals=prediction_intervals, color='g')\n",
    "    ax.axvline(ts_entry.index[-prediction_length], color='r')\n",
    "    plt.legend(legend, loc=\"upper left\")\n",
    "    if inline:\n",
    "        plt.show()\n",
    "        plt.clf()\n",
    "    else:\n",
    "        plt.savefig('{}forecast_{}.pdf'.format(path, sample_id))\n",
    "        plt.close()\n",
    "\n",
    "print(\"Plotting time series predictions ...\")\n",
    "for i in tqdm(range(1)):\n",
    "    ts_entry = tss[i]\n",
    "    forecast_entry = forecasts[i]\n",
    "    plot_prob_forecasts(ts_entry, forecast_entry, plot_log_path, i)"
   ]
  },
  {
   "cell_type": "code",
   "execution_count": null,
   "metadata": {},
   "outputs": [],
   "source": []
  }
 ],
 "metadata": {
  "kernelspec": {
   "display_name": "conda_python3",
   "language": "python",
   "name": "conda_python3"
  },
  "language_info": {
   "codemirror_mode": {
    "name": "ipython",
    "version": 3
   },
   "file_extension": ".py",
   "mimetype": "text/x-python",
   "name": "python",
   "nbconvert_exporter": "python",
   "pygments_lexer": "ipython3",
   "version": "3.6.10"
  }
 },
 "nbformat": 4,
 "nbformat_minor": 4
}
